{
 "cells": [
  {
   "cell_type": "code",
   "execution_count": 5,
   "id": "5c7a1122",
   "metadata": {},
   "outputs": [],
   "source": [
    "from pyspark.ml import Pipeline\n",
    "from pyspark.ml.tuning import ParamGridBuilder, CrossValidator\n",
    "from pyspark.ml.classification import RandomForestClassifier\n",
    "from pyspark.ml.evaluation import MulticlassClassificationEvaluator, BinaryClassificationEvaluator\n",
    "from pyspark.ml.feature import StopWordsRemover, Tokenizer, Word2Vec\n",
    "from pyspark.sql import SparkSession\n",
    "from pyspark.sql.functions import lower, when\n",
    "import json"
   ]
  },
  {
   "cell_type": "code",
   "execution_count": 6,
   "id": "77c8b77c",
   "metadata": {},
   "outputs": [
    {
     "data": {
      "text/html": [
       "\n",
       "            <div>\n",
       "                <p><b>SparkSession - in-memory</b></p>\n",
       "                \n",
       "        <div>\n",
       "            <p><b>SparkContext</b></p>\n",
       "\n",
       "            <p><a href=\"http://202690a08540:4040\">Spark UI</a></p>\n",
       "\n",
       "            <dl>\n",
       "              <dt>Version</dt>\n",
       "                <dd><code>v3.0.0</code></dd>\n",
       "              <dt>Master</dt>\n",
       "                <dd><code>local[*]</code></dd>\n",
       "              <dt>AppName</dt>\n",
       "                <dd><code>News Sentiment analysis</code></dd>\n",
       "            </dl>\n",
       "        </div>\n",
       "        \n",
       "            </div>\n",
       "        "
      ],
      "text/plain": [
       "<pyspark.sql.session.SparkSession at 0x7fdf514f3190>"
      ]
     },
     "execution_count": 6,
     "metadata": {},
     "output_type": "execute_result"
    }
   ],
   "source": [
    "# spark = SparkSession.builder.master(\"spark://localhost:7077\").appName(\"News Sentiment analysis\").getOrCreate()\n",
    "spark = SparkSession.builder.master(\"local[*]\").appName(\"News Sentiment analysis\").getOrCreate()\n",
    "spark"
   ]
  },
  {
   "cell_type": "markdown",
   "id": "16cb93cc",
   "metadata": {},
   "source": [
    "## Load data from HDFS"
   ]
  },
  {
   "cell_type": "code",
   "execution_count": 7,
   "id": "dad5d363",
   "metadata": {},
   "outputs": [],
   "source": [
    "hdfsPath = \"hdfs://namenode:9000/user/spark/news_data_articles.txt\"\n",
    "df = spark.read.json(hdfsPath)"
   ]
  },
  {
   "cell_type": "code",
   "execution_count": 8,
   "id": "e9f57e41",
   "metadata": {},
   "outputs": [
    {
     "name": "stdout",
     "output_type": "stream",
     "text": [
      "+-------+--------------------+--------------------+-------------------+--------------------+--------------------+--------------------+--------------------+\n",
      "| author|             content|         description|       published_at|              source|               title|                 url|        url_to_image|\n",
      "+-------+--------------------+--------------------+-------------------+--------------------+--------------------+--------------------+--------------------+\n",
      "|bbcnews|Thirty years afte...|The BBC's Fergal ...|2023-12-03 22:21:04|[bbc-news, BBC News]|South Africa: The...|https://www.bbc.c...|https://ichef.bbc...|\n",
      "|bbcnews|South Florida. A ...|The Grand Theft A...|2023-12-10 00:56:54|[bbc-news, BBC News]|Grand Theft Auto ...|https://www.bbc.c...|https://ichef.bbc...|\n",
      "|bbcnews|The families of t...|Police in Vermont...|2023-11-27 00:31:15|[bbc-news, BBC News]|Vermont: Three Pa...|https://www.bbc.c...|https://ichef.bbc...|\n",
      "|bbcnews|Homosexuality sho...|Cardinal Peter Tu...|2023-11-27 12:59:02|[bbc-news, BBC News]|Ghana Cardinal Pe...|https://www.bbc.c...|https://ichef.bbc...|\n",
      "|bbcnews|A key political a...|A two-year-old ta...|2023-11-23 06:00:31|[bbc-news, BBC News]|Missing Ukrainian...|https://www.bbc.c...|https://ichef.bbc...|\n",
      "|bbcnews|At the end of the...|Even when the war...|2023-12-09 09:48:23|[bbc-news, BBC News]|Israel-Gaza: The ...|https://www.bbc.c...|https://ichef.bbc...|\n",
      "|bbcnews|A manhunt is unde...|A manhunt is unde...|2023-12-11 13:10:39|[bbc-news, BBC News]|Switzerland manhu...|https://www.bbc.c...|https://ichef.bbc...|\n",
      "|bbcnews|It's all rather s...|Karin Kneissl dan...|2023-12-07 06:01:28|[bbc-news, BBC News]|Karin Kneissl, th...|https://www.bbc.c...|https://ichef.bbc...|\n",
      "|bbcnews|Russian President...|The Russian leade...|2023-12-06 12:56:45|[bbc-news, BBC News]|Putin lands in UA...|https://www.bbc.c...|https://ichef.bbc...|\n",
      "|bbcnews|Serbians are voti...|The ruling party ...|2023-12-17 13:17:45|[bbc-news, BBC News]|Serbians head to ...|https://www.bbc.c...|https://ichef.bbc...|\n",
      "|bbcnews|Police in Mexico ...|The victims were ...|2023-12-18 12:51:22|[bbc-news, BBC News]|Mexico violence: ...|https://www.bbc.c...|https://ichef.bbc...|\n",
      "|bbcnews|A homeless man mo...|When a drifter mo...|2023-11-26 01:11:32|[bbc-news, BBC News]|The homeless hand...|https://www.bbc.c...|https://ichef.bbc...|\n",
      "|bbcnews|It was, perhaps, ...|One man fined €40...|2023-11-27 17:41:30|[bbc-news, BBC News]|Slovenia Covid: T...|https://www.bbc.c...|https://ichef.bbc...|\n",
      "|bbcnews|Ukraine has launc...|Kyiv investigates...|2023-12-03 16:03:56|[bbc-news, BBC News]|Ukraine war: Russ...|https://www.bbc.c...|https://ichef.bbc...|\n",
      "|bbcnews|When New Zealand'...|The model for an ...|2023-12-11 00:26:33|[bbc-news, BBC News]|New Zealand smoki...|https://www.bbc.c...|https://ichef.bbc...|\n",
      "|Unknown|Students are bein...|Doctors have been...|2023-11-20 06:15:13|[bbc-news, BBC News]|Knife crime: 'We'...|https://www.bbc.c...|https://ichef.bbc...|\n",
      "|bbcnews|The murder of a y...|A vigil for healt...|2023-12-06 14:53:29|[bbc-news, BBC News]|Lurgan murder: Od...|https://www.bbc.c...|https://ichef.bbc...|\n",
      "|bbcnews|Super-strength st...|Synthetic opioids...|2023-12-11 00:44:28|[bbc-news, BBC News]|Street drugs stro...|https://www.bbc.c...|https://ichef.bbc...|\n",
      "|bbcnews|Michelle Mone say...|PPE Medpro is bei...|2023-12-10 13:15:27|[bbc-news, BBC News]|Tory peer Michell...|https://www.bbc.c...|https://ichef.bbc...|\n",
      "|bbcnews|All 221 Republica...|Republicans retur...|2023-12-15 18:47:13|[bbc-news, BBC News]|Biden impeachment...|https://www.bbc.c...|https://ichef.bbc...|\n",
      "+-------+--------------------+--------------------+-------------------+--------------------+--------------------+--------------------+--------------------+\n",
      "only showing top 20 rows\n",
      "\n"
     ]
    }
   ],
   "source": [
    "df.show()"
   ]
  },
  {
   "cell_type": "code",
   "execution_count": 9,
   "id": "73688351",
   "metadata": {},
   "outputs": [
    {
     "name": "stdout",
     "output_type": "stream",
     "text": [
      "root\n",
      " |-- author: string (nullable = true)\n",
      " |-- content: string (nullable = true)\n",
      " |-- description: string (nullable = true)\n",
      " |-- published_at: timestamp (nullable = true)\n",
      " |-- source: struct (nullable = true)\n",
      " |    |-- id: string (nullable = true)\n",
      " |    |-- name: string (nullable = true)\n",
      " |-- title: string (nullable = true)\n",
      " |-- url: string (nullable = true)\n",
      " |-- url_to_image: string (nullable = true)\n",
      "\n"
     ]
    }
   ],
   "source": [
    "df.printSchema()"
   ]
  },
  {
   "cell_type": "markdown",
   "id": "f076c76c",
   "metadata": {},
   "source": [
    "# Data Preparation"
   ]
  },
  {
   "cell_type": "code",
   "execution_count": 10,
   "id": "fd984f06",
   "metadata": {},
   "outputs": [
    {
     "name": "stdout",
     "output_type": "stream",
     "text": [
      "+-----+-----+\n",
      "|label|count|\n",
      "+-----+-----+\n",
      "|    1|   65|\n",
      "|    0|  546|\n",
      "+-----+-----+\n",
      "\n"
     ]
    }
   ],
   "source": [
    "labeled_data = df.withColumn(\"label\", when(lower(df[\"description\"]).contains(\"crime\") |\n",
    "                                            lower(df[\"description\"]).contains(\"murder\") |\n",
    "                                            lower(df[\"description\"]).contains(\"robbery\"), 1).otherwise(0))\n",
    "labeled_data.groupBy(\"label\").count().show()"
   ]
  },
  {
   "cell_type": "markdown",
   "id": "f8198911",
   "metadata": {},
   "source": [
    "### Define a function to convert text to lowercase and tokenize it"
   ]
  },
  {
   "cell_type": "code",
   "execution_count": 11,
   "id": "3a6f116a",
   "metadata": {},
   "outputs": [],
   "source": [
    "def tokenize_text(df):\n",
    "    tokenizer = Tokenizer(inputCol=\"description\", outputCol=\"words\")\n",
    "    return tokenizer.transform(df)"
   ]
  },
  {
   "cell_type": "code",
   "execution_count": 12,
   "id": "47ea1da3",
   "metadata": {},
   "outputs": [
    {
     "name": "stdout",
     "output_type": "stream",
     "text": [
      "+-------+--------------------+--------------------+-------------------+--------------------+--------------------+--------------------+--------------------+-----+--------------------+\n",
      "| author|             content|         description|       published_at|              source|               title|                 url|        url_to_image|label|               words|\n",
      "+-------+--------------------+--------------------+-------------------+--------------------+--------------------+--------------------+--------------------+-----+--------------------+\n",
      "|bbcnews|Thirty years afte...|The BBC's Fergal ...|2023-12-03 22:21:04|[bbc-news, BBC News]|South Africa: The...|https://www.bbc.c...|https://ichef.bbc...|    0|[the, bbc's, ferg...|\n",
      "|bbcnews|South Florida. A ...|The Grand Theft A...|2023-12-10 00:56:54|[bbc-news, BBC News]|Grand Theft Auto ...|https://www.bbc.c...|https://ichef.bbc...|    0|[the, grand, thef...|\n",
      "|bbcnews|The families of t...|Police in Vermont...|2023-11-27 00:31:15|[bbc-news, BBC News]|Vermont: Three Pa...|https://www.bbc.c...|https://ichef.bbc...|    0|[police, in, verm...|\n",
      "|bbcnews|Homosexuality sho...|Cardinal Peter Tu...|2023-11-27 12:59:02|[bbc-news, BBC News]|Ghana Cardinal Pe...|https://www.bbc.c...|https://ichef.bbc...|    0|[cardinal, peter,...|\n",
      "|bbcnews|A key political a...|A two-year-old ta...|2023-11-23 06:00:31|[bbc-news, BBC News]|Missing Ukrainian...|https://www.bbc.c...|https://ichef.bbc...|    0|[a, two-year-old,...|\n",
      "|bbcnews|At the end of the...|Even when the war...|2023-12-09 09:48:23|[bbc-news, BBC News]|Israel-Gaza: The ...|https://www.bbc.c...|https://ichef.bbc...|    0|[even, when, the,...|\n",
      "|bbcnews|A manhunt is unde...|A manhunt is unde...|2023-12-11 13:10:39|[bbc-news, BBC News]|Switzerland manhu...|https://www.bbc.c...|https://ichef.bbc...|    0|[a, manhunt, is, ...|\n",
      "|bbcnews|It's all rather s...|Karin Kneissl dan...|2023-12-07 06:01:28|[bbc-news, BBC News]|Karin Kneissl, th...|https://www.bbc.c...|https://ichef.bbc...|    0|[karin, kneissl, ...|\n",
      "|bbcnews|Russian President...|The Russian leade...|2023-12-06 12:56:45|[bbc-news, BBC News]|Putin lands in UA...|https://www.bbc.c...|https://ichef.bbc...|    0|[the, russian, le...|\n",
      "|bbcnews|Serbians are voti...|The ruling party ...|2023-12-17 13:17:45|[bbc-news, BBC News]|Serbians head to ...|https://www.bbc.c...|https://ichef.bbc...|    0|[the, ruling, par...|\n",
      "|bbcnews|Police in Mexico ...|The victims were ...|2023-12-18 12:51:22|[bbc-news, BBC News]|Mexico violence: ...|https://www.bbc.c...|https://ichef.bbc...|    0|[the, victims, we...|\n",
      "|bbcnews|A homeless man mo...|When a drifter mo...|2023-11-26 01:11:32|[bbc-news, BBC News]|The homeless hand...|https://www.bbc.c...|https://ichef.bbc...|    0|[when, a, drifter...|\n",
      "|bbcnews|It was, perhaps, ...|One man fined €40...|2023-11-27 17:41:30|[bbc-news, BBC News]|Slovenia Covid: T...|https://www.bbc.c...|https://ichef.bbc...|    0|[one, man, fined,...|\n",
      "|bbcnews|Ukraine has launc...|Kyiv investigates...|2023-12-03 16:03:56|[bbc-news, BBC News]|Ukraine war: Russ...|https://www.bbc.c...|https://ichef.bbc...|    0|[kyiv, investigat...|\n",
      "|bbcnews|When New Zealand'...|The model for an ...|2023-12-11 00:26:33|[bbc-news, BBC News]|New Zealand smoki...|https://www.bbc.c...|https://ichef.bbc...|    0|[the, model, for,...|\n",
      "|Unknown|Students are bein...|Doctors have been...|2023-11-20 06:15:13|[bbc-news, BBC News]|Knife crime: 'We'...|https://www.bbc.c...|https://ichef.bbc...|    0|[doctors, have, b...|\n",
      "|bbcnews|The murder of a y...|A vigil for healt...|2023-12-06 14:53:29|[bbc-news, BBC News]|Lurgan murder: Od...|https://www.bbc.c...|https://ichef.bbc...|    0|[a, vigil, for, h...|\n",
      "|bbcnews|Super-strength st...|Synthetic opioids...|2023-12-11 00:44:28|[bbc-news, BBC News]|Street drugs stro...|https://www.bbc.c...|https://ichef.bbc...|    1|[synthetic, opioi...|\n",
      "|bbcnews|Michelle Mone say...|PPE Medpro is bei...|2023-12-10 13:15:27|[bbc-news, BBC News]|Tory peer Michell...|https://www.bbc.c...|https://ichef.bbc...|    1|[ppe, medpro, is,...|\n",
      "|bbcnews|All 221 Republica...|Republicans retur...|2023-12-15 18:47:13|[bbc-news, BBC News]|Biden impeachment...|https://www.bbc.c...|https://ichef.bbc...|    0|[republicans, ret...|\n",
      "+-------+--------------------+--------------------+-------------------+--------------------+--------------------+--------------------+--------------------+-----+--------------------+\n",
      "only showing top 20 rows\n",
      "\n"
     ]
    }
   ],
   "source": [
    "tokenizer = Tokenizer(inputCol=\"description\", outputCol=\"words\")\n",
    "tokenized_data = tokenize_text(labeled_data)\n",
    "tokenized_data.show()"
   ]
  },
  {
   "cell_type": "markdown",
   "id": "f3dd717b",
   "metadata": {},
   "source": [
    "### Define the StopWordsRemover and Create the \"filteredWords\" column"
   ]
  },
  {
   "cell_type": "code",
   "execution_count": 13,
   "id": "7157031b",
   "metadata": {},
   "outputs": [
    {
     "name": "stdout",
     "output_type": "stream",
     "text": [
      "+-------+--------------------+--------------------+-------------------+--------------------+--------------------+--------------------+--------------------+-----+--------------------+--------------------+\n",
      "| author|             content|         description|       published_at|              source|               title|                 url|        url_to_image|label|               words|       filteredWords|\n",
      "+-------+--------------------+--------------------+-------------------+--------------------+--------------------+--------------------+--------------------+-----+--------------------+--------------------+\n",
      "|bbcnews|Thirty years afte...|The BBC's Fergal ...|2023-12-03 22:21:04|[bbc-news, BBC News]|South Africa: The...|https://www.bbc.c...|https://ichef.bbc...|    0|[the, bbc's, ferg...|[bbc's, fergal, k...|\n",
      "|bbcnews|South Florida. A ...|The Grand Theft A...|2023-12-10 00:56:54|[bbc-news, BBC News]|Grand Theft Auto ...|https://www.bbc.c...|https://ichef.bbc...|    0|[the, grand, thef...|[grand, theft, au...|\n",
      "|bbcnews|The families of t...|Police in Vermont...|2023-11-27 00:31:15|[bbc-news, BBC News]|Vermont: Three Pa...|https://www.bbc.c...|https://ichef.bbc...|    0|[police, in, verm...|[police, vermont,...|\n",
      "|bbcnews|Homosexuality sho...|Cardinal Peter Tu...|2023-11-27 12:59:02|[bbc-news, BBC News]|Ghana Cardinal Pe...|https://www.bbc.c...|https://ichef.bbc...|    0|[cardinal, peter,...|[cardinal, peter,...|\n",
      "|bbcnews|A key political a...|A two-year-old ta...|2023-11-23 06:00:31|[bbc-news, BBC News]|Missing Ukrainian...|https://www.bbc.c...|https://ichef.bbc...|    0|[a, two-year-old,...|[two-year-old, ta...|\n",
      "|bbcnews|At the end of the...|Even when the war...|2023-12-09 09:48:23|[bbc-news, BBC News]|Israel-Gaza: The ...|https://www.bbc.c...|https://ichef.bbc...|    0|[even, when, the,...|[even, war, israe...|\n",
      "|bbcnews|A manhunt is unde...|A manhunt is unde...|2023-12-11 13:10:39|[bbc-news, BBC News]|Switzerland manhu...|https://www.bbc.c...|https://ichef.bbc...|    0|[a, manhunt, is, ...|[manhunt, way, su...|\n",
      "|bbcnews|It's all rather s...|Karin Kneissl dan...|2023-12-07 06:01:28|[bbc-news, BBC News]|Karin Kneissl, th...|https://www.bbc.c...|https://ichef.bbc...|    0|[karin, kneissl, ...|[karin, kneissl, ...|\n",
      "|bbcnews|Russian President...|The Russian leade...|2023-12-06 12:56:45|[bbc-news, BBC News]|Putin lands in UA...|https://www.bbc.c...|https://ichef.bbc...|    0|[the, russian, le...|[russian, leader,...|\n",
      "|bbcnews|Serbians are voti...|The ruling party ...|2023-12-17 13:17:45|[bbc-news, BBC News]|Serbians head to ...|https://www.bbc.c...|https://ichef.bbc...|    0|[the, ruling, par...|[ruling, party, f...|\n",
      "|bbcnews|Police in Mexico ...|The victims were ...|2023-12-18 12:51:22|[bbc-news, BBC News]|Mexico violence: ...|https://www.bbc.c...|https://ichef.bbc...|    0|[the, victims, we...|[victims, young, ...|\n",
      "|bbcnews|A homeless man mo...|When a drifter mo...|2023-11-26 01:11:32|[bbc-news, BBC News]|The homeless hand...|https://www.bbc.c...|https://ichef.bbc...|    0|[when, a, drifter...|[drifter, moves, ...|\n",
      "|bbcnews|It was, perhaps, ...|One man fined €40...|2023-11-27 17:41:30|[bbc-news, BBC News]|Slovenia Covid: T...|https://www.bbc.c...|https://ichef.bbc...|    0|[one, man, fined,...|[one, man, fined,...|\n",
      "|bbcnews|Ukraine has launc...|Kyiv investigates...|2023-12-03 16:03:56|[bbc-news, BBC News]|Ukraine war: Russ...|https://www.bbc.c...|https://ichef.bbc...|    0|[kyiv, investigat...|[kyiv, investigat...|\n",
      "|bbcnews|When New Zealand'...|The model for an ...|2023-12-11 00:26:33|[bbc-news, BBC News]|New Zealand smoki...|https://www.bbc.c...|https://ichef.bbc...|    0|[the, model, for,...|[model, end, toba...|\n",
      "|Unknown|Students are bein...|Doctors have been...|2023-11-20 06:15:13|[bbc-news, BBC News]|Knife crime: 'We'...|https://www.bbc.c...|https://ichef.bbc...|    0|[doctors, have, b...|[doctors, teachin...|\n",
      "|bbcnews|The murder of a y...|A vigil for healt...|2023-12-06 14:53:29|[bbc-news, BBC News]|Lurgan murder: Od...|https://www.bbc.c...|https://ichef.bbc...|    0|[a, vigil, for, h...|[vigil, healthcar...|\n",
      "|bbcnews|Super-strength st...|Synthetic opioids...|2023-12-11 00:44:28|[bbc-news, BBC News]|Street drugs stro...|https://www.bbc.c...|https://ichef.bbc...|    1|[synthetic, opioi...|[synthetic, opioi...|\n",
      "|bbcnews|Michelle Mone say...|PPE Medpro is bei...|2023-12-10 13:15:27|[bbc-news, BBC News]|Tory peer Michell...|https://www.bbc.c...|https://ichef.bbc...|    1|[ppe, medpro, is,...|[ppe, medpro, sue...|\n",
      "|bbcnews|All 221 Republica...|Republicans retur...|2023-12-15 18:47:13|[bbc-news, BBC News]|Biden impeachment...|https://www.bbc.c...|https://ichef.bbc...|    0|[republicans, ret...|[republicans, ret...|\n",
      "+-------+--------------------+--------------------+-------------------+--------------------+--------------------+--------------------+--------------------+-----+--------------------+--------------------+\n",
      "only showing top 20 rows\n",
      "\n"
     ]
    }
   ],
   "source": [
    "remover = StopWordsRemover(inputCol=\"words\", outputCol=\"filteredWords\")\n",
    "filtered_data = remover.transform(tokenized_data)\n",
    "filtered_data.show()"
   ]
  },
  {
   "cell_type": "markdown",
   "id": "bd02c7a5",
   "metadata": {},
   "source": [
    "### Create a Word2Vec model"
   ]
  },
  {
   "cell_type": "code",
   "execution_count": 14,
   "id": "f7ffed52",
   "metadata": {},
   "outputs": [],
   "source": [
    "word2Vec = Word2Vec(inputCol=\"filteredWords\", outputCol=\"features\", vectorSize=100, minCount=0)"
   ]
  },
  {
   "cell_type": "markdown",
   "id": "b3293efe",
   "metadata": {},
   "source": [
    "# Model Training"
   ]
  },
  {
   "cell_type": "markdown",
   "id": "19a04888",
   "metadata": {},
   "source": [
    "### Create a RandomForestClassifier"
   ]
  },
  {
   "cell_type": "code",
   "execution_count": 15,
   "id": "ea419b44",
   "metadata": {},
   "outputs": [],
   "source": [
    "rf = RandomForestClassifier(labelCol=\"label\", featuresCol=\"features\", numTrees=10, rawPredictionCol=\"rawPrediction\")\n"
   ]
  },
  {
   "cell_type": "markdown",
   "id": "514353ea",
   "metadata": {},
   "source": [
    "### Create a pipeline with the stages"
   ]
  },
  {
   "cell_type": "code",
   "execution_count": 16,
   "id": "1b7cdef0",
   "metadata": {},
   "outputs": [],
   "source": [
    "pipeline = Pipeline(stages=[tokenizer, remover, word2Vec, rf])\n",
    "\n",
    "paramGrid = ParamGridBuilder() \\\n",
    "    .addGrid(rf.numTrees, [20, 50]) \\\n",
    "    .addGrid(rf.maxDepth, [5, 10]) \\\n",
    "    .build()\n",
    "\n",
    "# Create BinaryClassificationEvaluator\n",
    "evaluator = BinaryClassificationEvaluator() \\\n",
    "    .setLabelCol(\"label\") \\\n",
    "    .setRawPredictionCol(\"prediction\") \\\n",
    "    .setMetricName(\"areaUnderROC\")\n",
    "\n",
    "# Create CrossValidator\n",
    "cv = CrossValidator() \\\n",
    "    .setEstimator(pipeline) \\\n",
    "    .setEvaluator(evaluator) \\\n",
    "    .setEstimatorParamMaps(paramGrid) \\\n",
    "    .setNumFolds(5)\n",
    "\n"
   ]
  },
  {
   "cell_type": "markdown",
   "id": "7047208a",
   "metadata": {},
   "source": [
    "### Split the data into training and testing sets"
   ]
  },
  {
   "cell_type": "code",
   "execution_count": 17,
   "id": "5ae21285",
   "metadata": {},
   "outputs": [],
   "source": [
    "training_data, test_data = labeled_data.randomSplit([0.7, 0.3], seed=12345)"
   ]
  },
  {
   "cell_type": "markdown",
   "id": "cdea9956",
   "metadata": {},
   "source": [
    "### Train the model"
   ]
  },
  {
   "cell_type": "code",
   "execution_count": 18,
   "id": "965514e9",
   "metadata": {},
   "outputs": [
    {
     "name": "stderr",
     "output_type": "stream",
     "text": [
      "23/12/22 00:20:02 WARN BLAS: Failed to load implementation from: com.github.fommil.netlib.NativeSystemBLAS\n",
      "23/12/22 00:20:02 WARN BLAS: Failed to load implementation from: com.github.fommil.netlib.NativeRefBLAS\n"
     ]
    }
   ],
   "source": [
    "cvModel = cv.fit(training_data)"
   ]
  },
  {
   "cell_type": "markdown",
   "id": "f9a1581e",
   "metadata": {},
   "source": [
    "## Make predictions on the test set"
   ]
  },
  {
   "cell_type": "code",
   "execution_count": 19,
   "id": "164d4894",
   "metadata": {},
   "outputs": [],
   "source": [
    "predictions = cvModel.transform(test_data)"
   ]
  },
  {
   "cell_type": "markdown",
   "id": "6f972f77",
   "metadata": {},
   "source": [
    "## Evaluate the model"
   ]
  },
  {
   "cell_type": "code",
   "execution_count": 20,
   "id": "48bfa954",
   "metadata": {},
   "outputs": [
    {
     "data": {
      "text/plain": [
       "0.7380952380952381"
      ]
     },
     "execution_count": 20,
     "metadata": {},
     "output_type": "execute_result"
    }
   ],
   "source": [
    "accuracy =  evaluator.evaluate(predictions)\n",
    "accuracy"
   ]
  },
  {
   "cell_type": "code",
   "execution_count": 21,
   "id": "c272d55f",
   "metadata": {},
   "outputs": [],
   "source": [
    "spark.stop()"
   ]
  }
 ],
 "metadata": {
  "kernelspec": {
   "display_name": "Python 3 (ipykernel)",
   "language": "python",
   "name": "python3"
  },
  "language_info": {
   "codemirror_mode": {
    "name": "ipython",
    "version": 3
   },
   "file_extension": ".py",
   "mimetype": "text/x-python",
   "name": "python",
   "nbconvert_exporter": "python",
   "pygments_lexer": "ipython3",
   "version": "3.9.2"
  }
 },
 "nbformat": 4,
 "nbformat_minor": 5
}
